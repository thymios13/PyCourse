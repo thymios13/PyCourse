{
 "metadata": {
  "name": null
 },
 "nbformat": 3,
 "nbformat_minor": 0,
 "worksheets": [
  {
   "cells": [
    {
     "cell_type": "markdown",
     "metadata": {},
     "source": [
      "\n",
      "\n",
      "---\n",
      "title: Research Software Engineering with Python\n",
      "author: James Hetherington and Matt Clarkson\n",
      "---\n"
     ]
    },
    {
     "cell_type": "heading",
     "level": 1,
     "metadata": {},
     "source": [
      "Introduction"
     ]
    },
    {
     "cell_type": "markdown",
     "metadata": {},
     "source": []
    },
    {
     "cell_type": "heading",
     "level": 2,
     "metadata": {},
     "source": [
      "Purpose"
     ]
    },
    {
     "cell_type": "markdown",
     "metadata": {},
     "source": [
      "\n",
      "In this course, you will move beyond programming, to learn how to construct reliable, readable,\n",
      "efficient research software in a collaborative environment. The emphasis is on practical techniques,\n",
      "tips, and technologies to effectively build and maintain complex code.\n",
      "This is a intensive, practical course.\n",
      "\n",
      "Synopsis\n",
      "--------\n"
     ]
    },
    {
     "cell_type": "heading",
     "level": 2,
     "metadata": {},
     "source": [
      "Lesson 1"
     ]
    },
    {
     "cell_type": "markdown",
     "metadata": {},
     "source": [
      "\n",
      "* Why use scripting languages? \n",
      "* Python. IPython and the IPython notebook.\n",
      "* Programming with lists. Data structures: arrays, dictionaries, and sets. \n",
      "* Modules.\n"
     ]
    },
    {
     "cell_type": "heading",
     "level": 2,
     "metadata": {},
     "source": [
      "Lesson 2"
     ]
    },
    {
     "cell_type": "markdown",
     "metadata": {},
     "source": [
      "\n",
      "* Collaborating around code. Version control.\n",
      "* Git. Github. Issue tracking.\n",
      "* Code review.\n",
      "* Branches and merging.\n"
     ]
    },
    {
     "cell_type": "heading",
     "level": 2,
     "metadata": {},
     "source": [
      "Lesson 3"
     ]
    },
    {
     "cell_type": "markdown",
     "metadata": {},
     "source": [
      "\n",
      "* Testing.\n",
      "* Unit testing and regression testing.\n",
      "* Test driven design.\n",
      "* Exceptions and assertions.\n",
      "* Mocking.\n",
      "* Automated and interactive testing.\n",
      "* Build-and-test servers.\n",
      "* Negative testing and defensive programming.\n",
      "* Coverage.\n",
      "* Duck typing.\n",
      "* Logging.\n"
     ]
    },
    {
     "cell_type": "heading",
     "level": 2,
     "metadata": {},
     "source": [
      "Lesson 4"
     ]
    },
    {
     "cell_type": "markdown",
     "metadata": {},
     "source": [
      "\n",
      "* Using libraries.\n",
      "* The Python package index.\n",
      "* Packaging with setuptools.\n",
      "* Software licensing and releases.\n",
      "* Profiling and debugging.\n",
      "* Working with files and the OS.\n",
      "* Working with the web\n"
     ]
    },
    {
     "cell_type": "heading",
     "level": 2,
     "metadata": {},
     "source": [
      "\u00a0Lesson 5"
     ]
    },
    {
     "cell_type": "markdown",
     "metadata": {},
     "source": [
      "\n",
      "* Tricks for not repeating yourself\n",
      "* Iterables and generators\n",
      "* Functional python.\n",
      "* Map and reduce.\n",
      "* Context managers and decorators.\n",
      "* Metaprogramming\n"
     ]
    },
    {
     "cell_type": "heading",
     "level": 2,
     "metadata": {},
     "source": [
      "Lesson 6"
     ]
    },
    {
     "cell_type": "markdown",
     "metadata": {},
     "source": [
      "\n",
      "* Object-oriented python.\n",
      "* Object oriented design.\n",
      "* Software as engineering.\n",
      "* Pragmatic use of diagram languages.\n",
      "* Requirements engineering.\n",
      "* Agile and Waterfall.\n",
      "* Functional and architectural design.\n"
     ]
    },
    {
     "cell_type": "heading",
     "level": 2,
     "metadata": {},
     "source": [
      "\u00a0Lesson 7"
     ]
    },
    {
     "cell_type": "markdown",
     "metadata": {},
     "source": [
      "\n",
      "* Best practice in construction.\n",
      "* Comments.\n",
      "* Coding conventions.\n",
      "* Documentation with Sphinx.\n",
      "* Refactoring.\n",
      "* IDEs and editors\n",
      "* Design and development.\n"
     ]
    },
    {
     "cell_type": "heading",
     "level": 2,
     "metadata": {},
     "source": [
      "Lession 8"
     ]
    },
    {
     "cell_type": "markdown",
     "metadata": {},
     "source": [
      "\n",
      "* Matplotlib.\n",
      "* Numpy.\n"
     ]
    },
    {
     "cell_type": "heading",
     "level": 2,
     "metadata": {},
     "source": [
      "Lesson 9"
     ]
    },
    {
     "cell_type": "markdown",
     "metadata": {},
     "source": [
      "\n",
      "* Scipy\n",
      "* Pandas\n"
     ]
    },
    {
     "cell_type": "heading",
     "level": 2,
     "metadata": {},
     "source": [
      "\u00a0Lesson 10"
     ]
    },
    {
     "cell_type": "markdown",
     "metadata": {},
     "source": [
      "\n",
      "* Language bindings: calling C++ from Python.\n",
      "\n",
      "Prerequisites\n",
      "-------------\n",
      "\n",
      "Prior knowledge of at least one programming language, including variables, control flow, and functions.\n",
      "\n",
      "Exercises\n",
      "---------\n",
      "\n",
      "Examples and exercises for this course will be provided in Python.  \n",
      "Python will be introduced during this course, but we will assume you can already\n",
      "program. That means that you may find supplementary python content useful.\n",
      "\n",
      "Setup\n",
      "-----\n",
      "\n",
      "You are required to bring your own laptop to the course as the classrooms we are\n",
      " using do not have desktop computers.\n",
      "\n",
      "We have provided [setup](installation) instructions for installing the software needed for the course on\n",
      "your computer.\n",
      "\n"
     ]
    },
    {
     "cell_type": "heading",
     "level": 1,
     "metadata": {},
     "source": [
      "Why Python?"
     ]
    },
    {
     "cell_type": "markdown",
     "metadata": {},
     "source": []
    },
    {
     "cell_type": "heading",
     "level": 2,
     "metadata": {},
     "source": [
      "Why teach Python?"
     ]
    },
    {
     "cell_type": "markdown",
     "metadata": {},
     "source": [
      "\n",
      "* In this first session, we will introduce [Python](http://www.python.org).\n",
      "* This course is about good programming for research.\n",
      "* It's not mainly about Python.\n",
      "* But we have to use some language.\n"
     ]
    },
    {
     "cell_type": "heading",
     "level": 2,
     "metadata": {},
     "source": [
      "Why Python?"
     ]
    },
    {
     "cell_type": "markdown",
     "metadata": {},
     "source": [
      "\n",
      "* Python is quick to program in\n",
      "* Python is popular in research, and has lots of libraries for science\n",
      "* Python interfaces well with faster languages\n"
     ]
    },
    {
     "cell_type": "heading",
     "level": 2,
     "metadata": {},
     "source": [
      "Why write programs for research?"
     ]
    },
    {
     "cell_type": "markdown",
     "metadata": {},
     "source": [
      "\n",
      "* Not just labour saving\n",
      "* Scripted research can be tested and reproduced\n",
      "* Avoid the biggest problem in computational science...\n"
     ]
    },
    {
     "cell_type": "heading",
     "level": 2,
     "metadata": {},
     "source": [
      "SIRO"
     ]
    },
    {
     "cell_type": "markdown",
     "metadata": {},
     "source": [
      "\n",
      "* ~~Garbage in Garbage out~~\n",
      "* Sensible input\n",
      "* Reasonable output\n",
      "\n"
     ]
    },
    {
     "cell_type": "heading",
     "level": 1,
     "metadata": {},
     "source": [
      "Many kinds of Python"
     ]
    },
    {
     "cell_type": "markdown",
     "metadata": {},
     "source": []
    },
    {
     "cell_type": "heading",
     "level": 2,
     "metadata": {},
     "source": [
      "Many kinds of Python"
     ]
    },
    {
     "cell_type": "markdown",
     "metadata": {},
     "source": [
      "\n",
      "There are many different ways to use Python:\n",
      "\n",
      "* Python interpreter\n",
      "* Python scripts\n",
      "* IPython\n",
      "* IPython Notebook\n"
     ]
    },
    {
     "cell_type": "heading",
     "level": 2,
     "metadata": {},
     "source": [
      "Python at the command line"
     ]
    },
    {
     "cell_type": "markdown",
     "metadata": {},
     "source": []
    },
    {
     "cell_type": "raw",
     "metadata": {},
     "source": [
      "$ python\n",
      "Python 2.7.8 (default, Sep 19 2014, 17:15:25)\n",
      "[GCC 4.2.1 Compatible Apple LLVM 6.0 (clang-600.0.51)] on darwin\n",
      "Type \"help\", \"copyright\", \"credits\" or \"license\" for more information.\n",
      ">>> print 2*4\n",
      "8\n",
      ">>> exit()\n",
      "$ python -c \"print 2*4\"\n",
      "8"
     ]
    },
    {
     "cell_type": "markdown",
     "metadata": {},
     "source": []
    },
    {
     "cell_type": "heading",
     "level": 2,
     "metadata": {},
     "source": [
      "Python scripts"
     ]
    },
    {
     "cell_type": "markdown",
     "metadata": {},
     "source": []
    },
    {
     "cell_type": "raw",
     "metadata": {},
     "source": [
      "$echo \"print 2*4\" > eight.py\n",
      "$python eight.py\n",
      "8\n",
      "$echo '#!/usr/bin/env python' > eight\n",
      "$cat eight.py >> eight\n",
      "$chmod u+x eight\n",
      "$./eight\n",
      "8"
     ]
    },
    {
     "cell_type": "markdown",
     "metadata": {},
     "source": []
    },
    {
     "cell_type": "heading",
     "level": 2,
     "metadata": {},
     "source": [
      "IPython"
     ]
    },
    {
     "cell_type": "markdown",
     "metadata": {},
     "source": []
    },
    {
     "cell_type": "raw",
     "metadata": {},
     "source": [
      "$ ipython\n",
      "Python 2.7.8 (default, Sep 19 2014, 17:15:25)\n",
      "Type \"copyright\", \"credits\" or \"license\" for more information.\n",
      "\n",
      "IPython 2.2.0 -- An enhanced Interactive Python.\n",
      "?         -> Introduction and overview of IPython's features.\n",
      "%quickref -> Quick reference.\n",
      "help      -> Python's own help system.\n",
      "object?   -> Details about 'object', use 'object??' for extra details.\n",
      "\n",
      "In [1]: 2*4\n",
      "Out[1]: 8\n",
      "In [2]: exit"
     ]
    },
    {
     "cell_type": "markdown",
     "metadata": {},
     "source": []
    },
    {
     "cell_type": "heading",
     "level": 2,
     "metadata": {},
     "source": [
      "IPython Notebook"
     ]
    },
    {
     "cell_type": "markdown",
     "metadata": {},
     "source": []
    },
    {
     "cell_type": "raw",
     "metadata": {},
     "source": [
      "$ git clone https://github.com/UCL/rsd-engineeringcourse.git\n",
      "$ cd rsd-engineeringcourse/session01/notebooks\n",
      "$ ipython notebook"
     ]
    },
    {
     "cell_type": "markdown",
     "metadata": {},
     "source": [
      "\n",
      "![](../python/eight.png)\n",
      "... look in your browser ...\n"
     ]
    },
    {
     "cell_type": "heading",
     "level": 2,
     "metadata": {},
     "source": [
      "Install Python and IPython Notebook"
     ]
    },
    {
     "cell_type": "markdown",
     "metadata": {},
     "source": [
      "\n",
      "* The demonstrators will assist with [installing IPython and git](installation)\n"
     ]
    },
    {
     "cell_type": "heading",
     "level": 1,
     "metadata": {},
     "source": [
      "Working with and visualising data"
     ]
    },
    {
     "cell_type": "markdown",
     "metadata": {},
     "source": []
    },
    {
     "cell_type": "heading",
     "level": 2,
     "metadata": {},
     "source": [
      "Why write software to manage your data and plots? "
     ]
    },
    {
     "cell_type": "markdown",
     "metadata": {},
     "source": [
      "\n",
      "We should use programs for our entire research pipeline.\n",
      "\n",
      "Not just main simulation or numerical code, but also the small scripts which we use to\n",
      "tidy up data and produce plots. \n",
      "\n",
      "This should be code, so that the whole research pipeline\n",
      "is recorded for reproducibility. Data manipulation in spreadsheets cannot be shared or\n",
      "checked. \n",
      "\n",
      "It should be *good* code, because research conclusions are just as wrong if the\n",
      "plotting script is wrong as if the code that generates the data is wrong.\n"
     ]
    },
    {
     "cell_type": "heading",
     "level": 2,
     "metadata": {},
     "source": [
      "Analysing patient data"
     ]
    },
    {
     "cell_type": "markdown",
     "metadata": {},
     "source": [
      "\n",
      "(The next few slides are taken from Software Carpentry materials and are (CC-BY) the contributors at\n",
      "https://github.com/swcarpentry/bc/blob/master/team.md)\n",
      "\n",
      "You can follow along in an [IPython Notebook](http://nbviewer.ipython.org/github/UCL/rsd-engineeringcourse/blob/staging/session01/notebooks/session1.ipynb)\n"
     ]
    },
    {
     "cell_type": "heading",
     "level": 2,
     "metadata": {},
     "source": [
      "The data"
     ]
    },
    {
     "cell_type": "markdown",
     "metadata": {},
     "source": [
      "\n",
      "\n",
      "Imagine you are studying inflammation in patients who have been given a new treatment for arthritis, \n",
      "and need to analyze the first dozen data sets. The data sets are stored in \n",
      "comma-separated values (CSV) format: \n",
      "each row holds information for a single patient, and the columns represent successive days. \n",
      "The first few rows of our first file look like this:\n"
     ]
    },
    {
     "cell_type": "raw",
     "metadata": {},
     "source": [
      "0,0,1,3,1,2,4,7,8,3,3,3,10,5,7,4,7,7,12,18,6,13,11,11,7,7,4,6,8,8,4,4,5,7,3,4,2,3,0,0\n",
      "0,1,2,1,2,1,3,2,2,6,10,11,5,9,4,4,7,16,8,6,18,4,12,5,12,7,11,5,11,3,3,5,4,4,5,5,1,1,0,1\n",
      "0,1,1,3,3,2,6,2,5,9,5,7,4,5,4,15,5,11,9,10,19,14,12,17,7,12,11,7,4,2,10,5,4,2,2,3,2,2,1,1\n",
      "0,0,2,0,4,2,2,1,6,7,10,7,9,13,8,8,15,10,10,7,17,4,4,7,6,15,6,4,9,11,3,5,6,3,3,4,2,3,2,1\n",
      "0,1,1,3,3,1,3,5,2,4,4,7,6,5,3,10,8,10,6,17,9,14,9,7,13,9,12,6,7,7,9,6,3,2,2,4,2,0,1,1\n",
      "0,0,1,2,2,4,2,1,6,4,7,6,6,9,9,15,4,16,18,12,12,5,18,9,5,3,10,3..."
     ]
    },
    {
     "cell_type": "markdown",
     "metadata": {},
     "source": []
    },
    {
     "cell_type": "heading",
     "level": 2,
     "metadata": {},
     "source": [
      "The task"
     ]
    },
    {
     "cell_type": "markdown",
     "metadata": {},
     "source": [
      "\n",
      "We want to:\n",
      "\n",
      "*   load that data into memory,\n",
      "*   calculate the average inflammation per day across all patients, and\n",
      "*   plot the result.\n",
      "\n",
      "This will give us a good overview of various concepts in Python, which we'll\n",
      "return to some of after this initial survey.\n"
     ]
    },
    {
     "cell_type": "heading",
     "level": 2,
     "metadata": {},
     "source": [
      "\u00a0Loading data"
     ]
    },
    {
     "cell_type": "markdown",
     "metadata": {},
     "source": [
      "\n",
      "It's almost always wrong to do things yourself.\n",
      "\n",
      "Someone's probably written a program already. \n",
      "Python makes it easy to find and use other people's libraries.\n",
      "\n",
      "In this case, we want to use a python library to load and parse the csv data, and manipulate it as \n",
      "a matrix.\n",
      "\n",
      "\n"
     ]
    },
    {
     "cell_type": "code",
     "collapsed": false,
     "input": [
      "import numpy\n",
      "data=numpy.loadtxt(fname='../data/inflammation-01.csv', delimiter=',')\n",
      "print data\n"
     ],
     "language": "python",
     "metadata": {},
     "outputs": [],
     "prompt_number": ""
    },
    {
     "cell_type": "markdown",
     "metadata": {},
     "source": [
      "\n",
      "\n",
      "\n",
      "Here we've called a **function** `loadtxt` from a **module** `numpy`, and\n",
      "assigned it to a **variable** data. This course assumes you're happy with very basic\n",
      "programming concepts like function and variable. The IPython notebook contains more detail.\n"
     ]
    },
    {
     "cell_type": "heading",
     "level": 2,
     "metadata": {},
     "source": [
      "Types"
     ]
    },
    {
     "cell_type": "markdown",
     "metadata": {},
     "source": [
      "\n",
      "\n"
     ]
    },
    {
     "cell_type": "code",
     "collapsed": false,
     "input": [
      "print type(data)\n",
      "print data.shape\n"
     ],
     "language": "python",
     "metadata": {},
     "outputs": [],
     "prompt_number": ""
    },
    {
     "cell_type": "markdown",
     "metadata": {},
     "source": [
      "\n",
      "\n",
      "\n",
      "We've jumped straight in and used a `numpy.ndarray` (numerical python) matrix type for our data.\n",
      "It's similar to a basic python `Array` type; we'll talk more about the differences later.\n",
      "\n",
      "For now, it's important to know that Python variables have a type, that different types behave differently,\n",
      "but that, unlike C++ or Fortran, you don't need to say what type of variable something is before you use it.\n",
      "\n",
      "\n"
     ]
    },
    {
     "cell_type": "code",
     "collapsed": false,
     "input": [
      "print [type(\"Hello\"),type(1), type([1,2,3])]\n"
     ],
     "language": "python",
     "metadata": {},
     "outputs": [],
     "prompt_number": ""
    },
    {
     "cell_type": "markdown",
     "metadata": {},
     "source": [
      "\n",
      "\n"
     ]
    },
    {
     "cell_type": "heading",
     "level": 2,
     "metadata": {},
     "source": [
      "Slicing"
     ]
    },
    {
     "cell_type": "markdown",
     "metadata": {},
     "source": [
      "\n",
      "We can **slice** elements from arrays and matrices:\n",
      "\n",
      "\n"
     ]
    },
    {
     "cell_type": "code",
     "collapsed": false,
     "input": [
      "print 'first value in data:', data[0, 0] #Top left element\n",
      "print data[0:4, 0:10] # Top left few elements\n",
      "print data[:3, 36:] #First three lines, last few columns\n",
      "print data[:-1,:] #All but the last line, all columns\n"
     ],
     "language": "python",
     "metadata": {},
     "outputs": [],
     "prompt_number": ""
    },
    {
     "cell_type": "markdown",
     "metadata": {},
     "source": [
      "\n",
      "\n"
     ]
    },
    {
     "cell_type": "heading",
     "level": 2,
     "metadata": {},
     "source": [
      "Methods"
     ]
    },
    {
     "cell_type": "markdown",
     "metadata": {},
     "source": [
      "\n",
      "We can apply **methods** to objects. Which methods are available depend on the object's type:\n",
      "\n",
      "\n"
     ]
    },
    {
     "cell_type": "code",
     "collapsed": false,
     "input": [
      "print data.mean() # 6.14875\n",
      "print data.std() # 4.613\n",
      "patient_zero=data[0, :]\n",
      "print 'maximum inflammation for patient 0:', patient_zero.max()\n",
      "print 'maximum inflammation for patient 2:', data[2, :].max()\n"
     ],
     "language": "python",
     "metadata": {},
     "outputs": [],
     "prompt_number": ""
    },
    {
     "cell_type": "markdown",
     "metadata": {},
     "source": [
      "\n",
      "\n"
     ]
    },
    {
     "cell_type": "heading",
     "level": 2,
     "metadata": {},
     "source": [
      "Numpy Tools"
     ]
    },
    {
     "cell_type": "markdown",
     "metadata": {},
     "source": [
      "\n",
      "Numpy provides cool tools like:\n",
      "\n",
      "\n"
     ]
    },
    {
     "cell_type": "code",
     "collapsed": false,
     "input": [
      "print data.mean(axis=1) # Average over days, per patient\n",
      "print data.mean(axis=0) # Average over patients, per day\n"
     ],
     "language": "python",
     "metadata": {},
     "outputs": [],
     "prompt_number": ""
    },
    {
     "cell_type": "markdown",
     "metadata": {},
     "source": [
      "\n",
      "\n"
     ]
    },
    {
     "cell_type": "heading",
     "level": 2,
     "metadata": {},
     "source": [
      "Plotting"
     ]
    },
    {
     "cell_type": "markdown",
     "metadata": {},
     "source": [
      "\n",
      "> The purpose of computing is insight, not numbers\n",
      "--- Richard Hamming\n",
      "\n",
      "\n",
      "Tell IPython to show plots inline in the notebook\n"
     ]
    },
    {
     "cell_type": "code",
     "collapsed": false,
     "input": [
      "%matplotlib inline"
     ],
     "language": "python",
     "metadata": {},
     "outputs": [],
     "prompt_number": ""
    },
    {
     "cell_type": "markdown",
     "metadata": {},
     "source": [
      "\n"
     ]
    },
    {
     "cell_type": "code",
     "collapsed": false,
     "input": [
      "from matplotlib import pyplot as plt\n",
      "plt.imshow(data)\n",
      "plt.show()"
     ],
     "language": "python",
     "metadata": {},
     "outputs": [],
     "prompt_number": ""
    },
    {
     "cell_type": "markdown",
     "metadata": {},
     "source": [
      "\n",
      "\n"
     ]
    },
    {
     "cell_type": "heading",
     "level": 2,
     "metadata": {},
     "source": [
      "Something isn't right here"
     ]
    },
    {
     "cell_type": "code",
     "collapsed": false,
     "input": [
      "plt.plot(data.max(axis=0))\n",
      "plt.show()"
     ],
     "language": "python",
     "metadata": {},
     "outputs": [],
     "prompt_number": ""
    },
    {
     "cell_type": "markdown",
     "metadata": {},
     "source": [
      "\n"
     ]
    },
    {
     "cell_type": "heading",
     "level": 2,
     "metadata": {},
     "source": [
      "Make it a function"
     ]
    },
    {
     "cell_type": "markdown",
     "metadata": {},
     "source": [
      "\n",
      "So we've built some figures which help us analyse these data sets.\n",
      "\n",
      "We know we're going to have lots of similar experiments, so we'll want to wrap the code up into a **function**\n",
      "which can be used repeatedly:\n",
      "\n",
      "\n"
     ]
    },
    {
     "cell_type": "code",
     "collapsed": false,
     "input": [
      "import numpy as np\n",
      "from matplotlib import pyplot as plt\n",
      "def analyze(filename):\n",
      "    data = np.loadtxt(fname=filename, delimiter=',')\n",
      "    figure = plt.figure(figsize=(10.0, 3.0))\n",
      "\n",
      "    subplot_average=figure.add_subplot(1, 3, 1)\n",
      "    subplot_average.set_ylabel('average')\n",
      "    subplot_average.plot(data.mean(0))\n",
      "\n",
      "    subplot_max=figure.add_subplot(1, 3, 2)\n",
      "    subplot_max.set_ylabel('max')\n",
      "    subplot_max.plot(data.max(0))\n",
      "\n",
      "    subplot_min=figure.add_subplot(1, 3, 3)\n",
      "    subplot_min.set_ylabel('min')\n",
      "    subplot_min.plot(data.min(0))\n",
      "\n",
      "    figure.tight_layout()\n",
      "    return figure\n"
     ],
     "language": "python",
     "metadata": {},
     "outputs": [],
     "prompt_number": ""
    },
    {
     "cell_type": "markdown",
     "metadata": {},
     "source": [
      "\n",
      "\n",
      "\n",
      "Note that the only way Python knows that we're done with our function block is by unindenting!\n"
     ]
    },
    {
     "cell_type": "heading",
     "level": 2,
     "metadata": {},
     "source": [
      "User defined types. "
     ]
    },
    {
     "cell_type": "markdown",
     "metadata": {},
     "source": [
      "\n",
      "Note that the result of type(image) is `matplotlib.figure.Figure`: the `matplotlib` library defines\n",
      "its own new type, called a `class`, with its own methods, like `add_subplot`.\n"
     ]
    },
    {
     "cell_type": "heading",
     "level": 2,
     "metadata": {},
     "source": [
      "Make it a module"
     ]
    },
    {
     "cell_type": "markdown",
     "metadata": {},
     "source": [
      "\n",
      "We'd like our function to be usable by other people. So we'll wrap it up as it's own module.\n",
      "We copy it out of the notebook into a file, and add a wrapper function to make it easy to call it to\n",
      "produce an output on disk instead of in a notebook:\n",
      "\n",
      "\n",
      "\n",
      "\n"
     ]
    },
    {
     "cell_type": "code",
     "collapsed": false,
     "input": [
      "%%writefile analyzer.py\n",
      "#!/usr/bin/env python\n",
      "\n",
      "import numpy as np\n",
      "from matplotlib import pyplot as plt\n",
      "def analyze(filename):\n",
      "    data = np.loadtxt(fname=filename, delimiter=',')\n",
      "    figure = plt.figure(figsize=(10.0, 3.0))\n",
      "\n",
      "    subplot_average=figure.add_subplot(1, 3, 1)\n",
      "    subplot_average.set_ylabel('average')\n",
      "    subplot_average.plot(data.mean(0))\n",
      "\n",
      "    subplot_max=figure.add_subplot(1, 3, 2)\n",
      "    subplot_max.set_ylabel('max')\n",
      "    subplot_max.plot(data.max(0))\n",
      "\n",
      "    subplot_min=figure.add_subplot(1, 3, 3)\n",
      "    subplot_min.set_ylabel('min')\n",
      "    subplot_min.plot(data.min(0))\n",
      "\n",
      "    figure.tight_layout()\n",
      "    return figure\n",
      "\n",
      "import os\n",
      "def generate(filename, output=False):\n",
      "    if not output:\n",
      "        output = os.path.splitext(filename)[0] + '.png'\n",
      "    analyze(filename).savefig(output)\n",
      "\n",
      "def bulk_generate(sources):\n",
      "    for source in sources:\n",
      "       generate(source)\n",
      "\n",
      "import sys\n",
      "if __name__ == \"__main__\":\n",
      "    bulk_generate(sys.argv[1:])\n"
     ],
     "language": "python",
     "metadata": {},
     "outputs": [],
     "prompt_number": ""
    },
    {
     "cell_type": "markdown",
     "metadata": {},
     "source": [
      "\n",
      "\n",
      "\n",
      "\n"
     ]
    },
    {
     "cell_type": "heading",
     "level": 2,
     "metadata": {},
     "source": [
      "Call from the command line"
     ]
    },
    {
     "cell_type": "markdown",
     "metadata": {},
     "source": [
      "\n",
      "We'll also add some magic to make it work as a command line tool:\n"
     ]
    },
    {
     "cell_type": "raw",
     "metadata": {},
     "source": [
      "#!/usr/bin/env python\n",
      "import sys\n",
      "if __name__ == \"__main__\":\n",
      "    bulk_generate(sys.argv[1:])\n"
     ]
    },
    {
     "cell_type": "markdown",
     "metadata": {},
     "source": [
      "\n",
      "So now we can do:\n"
     ]
    },
    {
     "cell_type": "code",
     "collapsed": false,
     "input": [
      "\n",
      "%%bash\n",
      "\n",
      "chmod u+x analyzer.py\n",
      "./analyzer.py ../data/*.csv\n",
      "open ../data/inflammation-01.png"
     ],
     "language": "python",
     "metadata": {},
     "outputs": [],
     "prompt_number": ""
    },
    {
     "cell_type": "markdown",
     "metadata": {},
     "source": [
      "\n",
      "\n",
      "\n",
      "\n"
     ]
    },
    {
     "cell_type": "heading",
     "level": 1,
     "metadata": {},
     "source": [
      "Data in Python"
     ]
    },
    {
     "cell_type": "markdown",
     "metadata": {},
     "source": []
    },
    {
     "cell_type": "heading",
     "level": 2,
     "metadata": {},
     "source": [
      "\u00a0Floats and integers"
     ]
    },
    {
     "cell_type": "markdown",
     "metadata": {},
     "source": [
      "\n",
      "Python has two core numeric types:\n",
      "\n"
     ]
    },
    {
     "cell_type": "code",
     "collapsed": false,
     "input": [
      "one=1\n",
      "ten=10\n",
      "one_float=1.\n",
      "ten_float=10.\n",
      "print one/ten\n",
      "tenth= one_float/ten_float\n",
      "print type(one), type(one_float)\n",
      "print type(one/ten), type(tenth)\n"
     ],
     "language": "python",
     "metadata": {},
     "outputs": [],
     "prompt_number": ""
    },
    {
     "cell_type": "markdown",
     "metadata": {},
     "source": [
      "\n",
      "\n"
     ]
    },
    {
     "cell_type": "heading",
     "level": 2,
     "metadata": {},
     "source": [
      "Strings"
     ]
    },
    {
     "cell_type": "markdown",
     "metadata": {},
     "source": [
      "\n",
      "Python has a built in `string` type, supporting many\n",
      "useful operations.\n",
      "\n",
      "\n"
     ]
    },
    {
     "cell_type": "code",
     "collapsed": false,
     "input": [
      "given = \"James\"\n",
      "family = \"Hetherington\"\n",
      "full = given+\" \"+family\n",
      "print full.upper()\n"
     ],
     "language": "python",
     "metadata": {},
     "outputs": [],
     "prompt_number": ""
    },
    {
     "cell_type": "markdown",
     "metadata": {},
     "source": [
      "\n",
      "\n"
     ]
    },
    {
     "cell_type": "heading",
     "level": 2,
     "metadata": {},
     "source": [
      "\u00a0Coersion"
     ]
    },
    {
     "cell_type": "markdown",
     "metadata": {},
     "source": [
      "\n",
      "The name of a type can be used to convert between types:\n",
      "\n",
      "\n"
     ]
    },
    {
     "cell_type": "code",
     "collapsed": false,
     "input": [
      "print float(str(ten)+str(one))\n"
     ],
     "language": "python",
     "metadata": {},
     "outputs": [],
     "prompt_number": ""
    },
    {
     "cell_type": "markdown",
     "metadata": {},
     "source": [
      "\n",
      "\n"
     ]
    },
    {
     "cell_type": "heading",
     "level": 2,
     "metadata": {},
     "source": [
      "Arrays"
     ]
    },
    {
     "cell_type": "markdown",
     "metadata": {},
     "source": [
      "\n",
      "Python's basic **container** type is the `array`\n",
      "\n",
      "\n"
     ]
    },
    {
     "cell_type": "code",
     "collapsed": false,
     "input": [
      "count_to_five = range(5)\n",
      "various_things = [1, 2, \"banana\", 3.4, [1,2] ]\n",
      "name = [\"James\", \"Philip\", \"John\", \"Hetherington\"]\n",
      "print \" \".join(name)\n"
     ],
     "language": "python",
     "metadata": {},
     "outputs": [],
     "prompt_number": ""
    },
    {
     "cell_type": "markdown",
     "metadata": {},
     "source": [
      "\n",
      "\n"
     ]
    },
    {
     "cell_type": "heading",
     "level": 2,
     "metadata": {},
     "source": [
      "Sequences"
     ]
    },
    {
     "cell_type": "markdown",
     "metadata": {},
     "source": [
      "\n",
      "Many things can be treated like arrays, supporting slicing,\n",
      "a `len` operator and so on:\n",
      "\n",
      "\n"
     ]
    },
    {
     "cell_type": "code",
     "collapsed": false,
     "input": [
      "print count_to_five[1]\n",
      "print full[3:-4]\n",
      "print len(various_things)\n",
      "print \"John\" in name\n",
      "print count_to_five[0:2]*3\n"
     ],
     "language": "python",
     "metadata": {},
     "outputs": [],
     "prompt_number": ""
    },
    {
     "cell_type": "markdown",
     "metadata": {},
     "source": [
      "\n",
      "\n"
     ]
    },
    {
     "cell_type": "heading",
     "level": 2,
     "metadata": {},
     "source": [
      "\u00a0Unpacking"
     ]
    },
    {
     "cell_type": "markdown",
     "metadata": {},
     "source": [
      "\n",
      "Sequences can be **unpacked** from sequences:\n",
      "\n",
      "\n"
     ]
    },
    {
     "cell_type": "code",
     "collapsed": false,
     "input": [
      "zero, one, two = range(3)\n",
      "print one\n"
     ],
     "language": "python",
     "metadata": {},
     "outputs": [],
     "prompt_number": ""
    },
    {
     "cell_type": "markdown",
     "metadata": {},
     "source": [
      "\n",
      "\n"
     ]
    },
    {
     "cell_type": "heading",
     "level": 2,
     "metadata": {},
     "source": [
      "Concepts and Duck Typing"
     ]
    },
    {
     "cell_type": "markdown",
     "metadata": {},
     "source": [
      "\n",
      "We call the set of things that behave like arrays from the point of\n",
      "view of slicing \"sequences\". \n",
      "\n",
      "This is an example of \"Duck Typing\": anything that behaves like a\n",
      "sequence can be used as a sequence.\n",
      "\n",
      "> If it looks like a duck, and it quacks like a duck, then\n",
      "> it must be a duck\n"
     ]
    },
    {
     "cell_type": "heading",
     "level": 2,
     "metadata": {},
     "source": [
      "Mutability"
     ]
    },
    {
     "cell_type": "markdown",
     "metadata": {},
     "source": [
      "\n",
      "An array can be modified:\n",
      "\n",
      "\n"
     ]
    },
    {
     "cell_type": "code",
     "collapsed": false,
     "input": [
      "name[0] = \"Dr\"\n",
      "name[2:3] = [\"Griffiths-\"]\n",
      "name.append(\"PhD\")\n",
      "print \" \".join(name)\n"
     ],
     "language": "python",
     "metadata": {},
     "outputs": [],
     "prompt_number": ""
    },
    {
     "cell_type": "markdown",
     "metadata": {},
     "source": [
      "\n",
      "\n"
     ]
    },
    {
     "cell_type": "heading",
     "level": 2,
     "metadata": {},
     "source": [
      "Tuples"
     ]
    },
    {
     "cell_type": "markdown",
     "metadata": {},
     "source": [
      "A `tuple` is an immutable sequence:\n",
      "\n",
      "\n"
     ]
    },
    {
     "cell_type": "code",
     "collapsed": false,
     "input": [
      "my_tuple = (\"Hello\", \"World\")\n",
      "my_tuple[0]=\"Goodbye\"\n"
     ],
     "language": "python",
     "metadata": {},
     "outputs": [],
     "prompt_number": ""
    },
    {
     "cell_type": "markdown",
     "metadata": {},
     "source": [
      "\n",
      "\n",
      "\n",
      "`str`, `int` and `float` are all immutable too.\n"
     ]
    },
    {
     "cell_type": "heading",
     "level": 2,
     "metadata": {},
     "source": [
      "Identity vs Equality"
     ]
    },
    {
     "cell_type": "markdown",
     "metadata": {},
     "source": [
      "\n",
      "Having the same data is different from being the same actual object\n",
      "in memory:\n",
      "\n",
      "\n"
     ]
    },
    {
     "cell_type": "code",
     "collapsed": false,
     "input": [
      "print \"Hello\" == \"Hello\"\n",
      "print \"Hello\" is \"Hello\"\n",
      "print [1] == [1]\n",
      "print [1] is [1]\n"
     ],
     "language": "python",
     "metadata": {},
     "outputs": [],
     "prompt_number": ""
    },
    {
     "cell_type": "markdown",
     "metadata": {},
     "source": [
      "\n",
      "\n"
     ]
    },
    {
     "cell_type": "heading",
     "level": 2,
     "metadata": {},
     "source": [
      "Memory and containers"
     ]
    },
    {
     "cell_type": "markdown",
     "metadata": {},
     "source": [
      "\n",
      "The way memory works with containers can be important:\n",
      "\n",
      "\n"
     ]
    },
    {
     "cell_type": "code",
     "collapsed": false,
     "input": [
      "x = range(3)\n",
      "y = x\n",
      "z = x[:]\n",
      "y[1] = \"Gotcha!\"\n",
      "z[2] = \"Really?\"\n",
      "print x, y, z\n"
     ],
     "language": "python",
     "metadata": {},
     "outputs": [],
     "prompt_number": ""
    },
    {
     "cell_type": "markdown",
     "metadata": {},
     "source": [
      "\n",
      "\n"
     ]
    },
    {
     "cell_type": "heading",
     "level": 2,
     "metadata": {},
     "source": [
      "Dictionaries"
     ]
    },
    {
     "cell_type": "markdown",
     "metadata": {},
     "source": [
      "\n",
      "Python supports an \"associative array\":\n",
      "\n",
      "\n"
     ]
    },
    {
     "cell_type": "code",
     "collapsed": false,
     "input": [
      "print count_to_five[1]\n",
      "print full[3:-4]\n",
      "print len(various_things)\n",
      "print \"John\" in name\n",
      "print count_to_five[0:2]*3\n"
     ],
     "language": "python",
     "metadata": {},
     "outputs": [],
     "prompt_number": ""
    },
    {
     "cell_type": "markdown",
     "metadata": {},
     "source": [
      "\n",
      "\n"
     ]
    },
    {
     "cell_type": "heading",
     "level": 2,
     "metadata": {},
     "source": [
      "Immutable Keys Only"
     ]
    },
    {
     "cell_type": "markdown",
     "metadata": {},
     "source": [
      "\n",
      "The way in which dictionaries work is one of the coolest things in computer science:\n",
      "the \"hash table\". We'll look more into this later, but the consequence of this is\n",
      "that things would totally break of you changed a key in a dictionary.\n",
      "\n",
      "So, you can only use **immutable** things as keys.\n",
      "\n",
      "\n"
     ]
    },
    {
     "cell_type": "code",
     "collapsed": false,
     "input": [
      "good_match = {(\"Lamb\", \"Mint\"): True, (\"Bacon\", \"Chocolate\"): False}\n",
      "illegal = {[1,2]: 3}\n"
     ],
     "language": "python",
     "metadata": {},
     "outputs": [],
     "prompt_number": ""
    },
    {
     "cell_type": "markdown",
     "metadata": {},
     "source": [
      "\n",
      "\n"
     ]
    },
    {
     "cell_type": "heading",
     "level": 2,
     "metadata": {},
     "source": [
      "No guarantee of order"
     ]
    },
    {
     "cell_type": "markdown",
     "metadata": {},
     "source": [
      "\n",
      "Another consequence of the way dictionaries work is that there's no guaranteed order among the\n",
      "elements:\n",
      "\n",
      "\n"
     ]
    },
    {
     "cell_type": "code",
     "collapsed": false,
     "input": [
      "my_dict = {}\n",
      "for x in range(5):\n",
      "  my_dict[str(x)] = x\n",
      "\n",
      "print my_dict\n"
     ],
     "language": "python",
     "metadata": {},
     "outputs": [],
     "prompt_number": ""
    },
    {
     "cell_type": "markdown",
     "metadata": {},
     "source": [
      "\n",
      "\n"
     ]
    },
    {
     "cell_type": "heading",
     "level": 2,
     "metadata": {},
     "source": [
      "Sets"
     ]
    },
    {
     "cell_type": "markdown",
     "metadata": {},
     "source": [
      "\n",
      "A set works like a dictionary, but with just keys.\n",
      "\n",
      "There's no guaranteed order, elements cannot occur twice.\n",
      "\n",
      "\n"
     ]
    },
    {
     "cell_type": "code",
     "collapsed": false,
     "input": [
      "unique_letters = set(\"\".join(name))\n",
      "print unique_letters\n",
      "print \"\".join(sorted(unique_letters))\n"
     ],
     "language": "python",
     "metadata": {},
     "outputs": [],
     "prompt_number": ""
    },
    {
     "cell_type": "markdown",
     "metadata": {},
     "source": [
      "\n",
      "\n",
      "\n"
     ]
    },
    {
     "cell_type": "heading",
     "level": 1,
     "metadata": {},
     "source": [
      "Control and flow"
     ]
    },
    {
     "cell_type": "markdown",
     "metadata": {},
     "source": []
    },
    {
     "cell_type": "heading",
     "level": 2,
     "metadata": {},
     "source": [
      "If, Elif, Else"
     ]
    },
    {
     "cell_type": "markdown",
     "metadata": {},
     "source": [
      "\n",
      "Python's if statement has optional if and elif clauses.\n",
      "Use of elif means there is no separate `case` statement.\n",
      "\n",
      "\n"
     ]
    },
    {
     "cell_type": "code",
     "collapsed": false,
     "input": [
      "x = 5\n",
      "if x < 0:\n",
      "    print \"x is negative\"\n",
      "elif x == 0:\n",
      "    print \"x is zero\"\n",
      "else:\n",
      "    print \"x is positive\"\n"
     ],
     "language": "python",
     "metadata": {},
     "outputs": [],
     "prompt_number": ""
    },
    {
     "cell_type": "markdown",
     "metadata": {},
     "source": [
      "\n",
      "\n"
     ]
    },
    {
     "cell_type": "heading",
     "level": 2,
     "metadata": {},
     "source": [
      "Comparison"
     ]
    },
    {
     "cell_type": "markdown",
     "metadata": {},
     "source": [
      "\n",
      "`True` and `False` are used to represent **boolean** values.\n",
      "Comparison on strings is alphabetical.\n",
      "\n",
      "\n"
     ]
    },
    {
     "cell_type": "code",
     "collapsed": false,
     "input": [
      "1 > 2\n",
      "\"UCL\" > \"KCL\"\n",
      "True == \"True\"\n",
      "False == 0\n",
      "'1' < 2\n"
     ],
     "language": "python",
     "metadata": {},
     "outputs": [],
     "prompt_number": ""
    },
    {
     "cell_type": "markdown",
     "metadata": {},
     "source": [
      "\n",
      "\n"
     ]
    },
    {
     "cell_type": "heading",
     "level": 2,
     "metadata": {},
     "source": [
      "Indentation"
     ]
    },
    {
     "cell_type": "markdown",
     "metadata": {},
     "source": [
      "\n",
      "In Python, indentation is semantically significant.\n",
      "You can choose how much indentation to use, so long as you\n",
      "are consistent, but four spaces is\n",
      "conventional. Please do not use tabs.\n",
      "\n",
      "\n"
     ]
    },
    {
     "cell_type": "code",
     "collapsed": false,
     "input": [
      "if x>0:\n",
      "print x\n"
     ],
     "language": "python",
     "metadata": {},
     "outputs": [],
     "prompt_number": ""
    },
    {
     "cell_type": "markdown",
     "metadata": {},
     "source": [
      "\n",
      "\n"
     ]
    },
    {
     "cell_type": "heading",
     "level": 2,
     "metadata": {},
     "source": [
      "\u00a0Pass"
     ]
    },
    {
     "cell_type": "markdown",
     "metadata": {},
     "source": [
      "\n",
      "A statement expecting identation must have some indented code.\n",
      "This can be annoying when commenting things out. (With `#`)\n",
      "\n",
      "\n"
     ]
    },
    {
     "cell_type": "code",
     "collapsed": false,
     "input": [
      "if x>0:\n",
      "    # print x\n",
      "print \"Hello\"\n"
     ],
     "language": "python",
     "metadata": {},
     "outputs": [],
     "prompt_number": ""
    },
    {
     "cell_type": "markdown",
     "metadata": {},
     "source": [
      "\n",
      "\n",
      "\n",
      "So the `pass` statement is used to do nothing.\n",
      "\n",
      "\n"
     ]
    },
    {
     "cell_type": "code",
     "collapsed": false,
     "input": [
      "if x>0:\n",
      "    pass\n",
      "print \"Hello\"\n"
     ],
     "language": "python",
     "metadata": {},
     "outputs": [],
     "prompt_number": ""
    },
    {
     "cell_type": "markdown",
     "metadata": {},
     "source": [
      "\n",
      "\n",
      "\n"
     ]
    },
    {
     "cell_type": "heading",
     "level": 2,
     "metadata": {},
     "source": [
      "Iteration"
     ]
    },
    {
     "cell_type": "markdown",
     "metadata": {},
     "source": [
      "\n",
      "Use `for` ... `in` to iterate over **iterables**:\n",
      "\n",
      "\n"
     ]
    },
    {
     "cell_type": "code",
     "collapsed": false,
     "input": [
      "uptofive = range(5)\n",
      "for value in uptofive:\n",
      "    print value**2\n"
     ],
     "language": "python",
     "metadata": {},
     "outputs": [],
     "prompt_number": ""
    },
    {
     "cell_type": "markdown",
     "metadata": {},
     "source": [
      "\n",
      "\n"
     ]
    },
    {
     "cell_type": "heading",
     "level": 2,
     "metadata": {},
     "source": [
      "Iterables"
     ]
    },
    {
     "cell_type": "markdown",
     "metadata": {},
     "source": [
      "\n",
      "Any sequence type is iterable:\n",
      "\n",
      "\n"
     ]
    },
    {
     "cell_type": "code",
     "collapsed": false,
     "input": [
      "vowels=\"aeiou\"\n",
      "sarcasm = []\n",
      "for letter in \"Okay\":\n",
      "    if letter.lower() in vowels:\n",
      "        repetition = 3\n",
      "    else:\n",
      "        repetition = 1\n",
      "    sarcasm.append(letter*repetition)\n",
      "\n",
      "print \"\".join(sarcasm)\n"
     ],
     "language": "python",
     "metadata": {},
     "outputs": [],
     "prompt_number": ""
    },
    {
     "cell_type": "markdown",
     "metadata": {},
     "source": [
      "\n",
      "\n"
     ]
    },
    {
     "cell_type": "heading",
     "level": 2,
     "metadata": {},
     "source": [
      "\u00a0Dictionaries are Iterables"
     ]
    },
    {
     "cell_type": "markdown",
     "metadata": {},
     "source": [
      "\n",
      "All sequences are iterables. Some iterables are not sequences,\n",
      "including sets and dictionaries.\n",
      "\n",
      "\n"
     ]
    },
    {
     "cell_type": "code",
     "collapsed": false,
     "input": [
      "import datetime\n",
      "now = datetime.datetime.now()\n",
      "founded = {\"James\": 1976, \"UCL\": 1826, \"Cambridge\": 1209}\n",
      "current_year = now.year\n",
      "for thing in founded:\n",
      "    print thing, \" is \", current_year -  founded[thing], \"years old.\"\n"
     ],
     "language": "python",
     "metadata": {},
     "outputs": [],
     "prompt_number": ""
    },
    {
     "cell_type": "markdown",
     "metadata": {},
     "source": [
      "\n",
      "\n"
     ]
    },
    {
     "cell_type": "heading",
     "level": 2,
     "metadata": {},
     "source": [
      "Unpacking and Iteration"
     ]
    },
    {
     "cell_type": "markdown",
     "metadata": {},
     "source": [
      "\n",
      "Unpacking can be useful with iteration:\n",
      "\n",
      "\n"
     ]
    },
    {
     "cell_type": "code",
     "collapsed": false,
     "input": [
      "triples=[[1,2,3], [3,4,5]]\n",
      "for triple in triples:\n",
      "    print triple\n",
      "\n",
      "for first, second, third in triples:\n",
      "    print second, first, third\n"
     ],
     "language": "python",
     "metadata": {},
     "outputs": [],
     "prompt_number": ""
    },
    {
     "cell_type": "markdown",
     "metadata": {},
     "source": [
      "\n",
      "\n",
      "\n",
      "for example, to iterate over the items in a dictionary as pairs:\n",
      "\n",
      "\n"
     ]
    },
    {
     "cell_type": "code",
     "collapsed": false,
     "input": [
      "print founded.items()\n",
      "\n",
      "for thing, year in founded.items():\n",
      "    print thing, \" is \", current_year - year, \"years old.\"\n"
     ],
     "language": "python",
     "metadata": {},
     "outputs": [],
     "prompt_number": ""
    },
    {
     "cell_type": "markdown",
     "metadata": {},
     "source": [
      "\n",
      "\n"
     ]
    },
    {
     "cell_type": "heading",
     "level": 2,
     "metadata": {},
     "source": [
      "Break, Continue"
     ]
    },
    {
     "cell_type": "markdown",
     "metadata": {},
     "source": [
      "\n",
      "* Continue skips to the next turn of a loop\n",
      "* Break stops the loop early\n",
      "\n",
      "\n"
     ]
    },
    {
     "cell_type": "code",
     "collapsed": false,
     "input": [
      "for n in range(50):\n",
      "    if n==20: break\n",
      "    if n % 2 == 0:\n",
      "        continue\n",
      "    print n\n"
     ],
     "language": "python",
     "metadata": {},
     "outputs": [],
     "prompt_number": ""
    },
    {
     "cell_type": "markdown",
     "metadata": {},
     "source": [
      "\n",
      "\n"
     ]
    },
    {
     "cell_type": "heading",
     "level": 2,
     "metadata": {},
     "source": [
      "Break, Continue and Else"
     ]
    },
    {
     "cell_type": "markdown",
     "metadata": {},
     "source": [
      "\n",
      "* An else clause on a loop is executed iff the end of the loop is reached \n",
      "\n",
      "\n"
     ]
    },
    {
     "cell_type": "code",
     "collapsed": false,
     "input": [
      "search_in=range(50)\n",
      "for x in search_in:\n",
      "    if x<0:\n",
      "        first_negative = x\n",
      "        break\n",
      "else:\n",
      "    first_negative = False\n",
      "\n",
      "print first_negative\n"
     ],
     "language": "python",
     "metadata": {},
     "outputs": [],
     "prompt_number": ""
    },
    {
     "cell_type": "markdown",
     "metadata": {},
     "source": [
      "\n",
      "\n"
     ]
    },
    {
     "cell_type": "heading",
     "level": 2,
     "metadata": {},
     "source": [
      "List and Dictionary Comprehensions"
     ]
    },
    {
     "cell_type": "markdown",
     "metadata": {},
     "source": [
      "\n",
      "If you write a for loop inside a list or dict constructor, you magic up a list.\n",
      "This can make for concise but hard to read code, so be careful.\n",
      "\n",
      "\n"
     ]
    },
    {
     "cell_type": "code",
     "collapsed": false,
     "input": [
      "[2**x for x in range(10)]\n",
      "\"\".join([x.upper() for x in \"Whatever\" if (x in vowels)])\n",
      "{ (str(x))*3: x for x in range(3) }\n"
     ],
     "language": "python",
     "metadata": {},
     "outputs": [],
     "prompt_number": ""
    },
    {
     "cell_type": "markdown",
     "metadata": {},
     "source": [
      "\n",
      "\n"
     ]
    },
    {
     "cell_type": "heading",
     "level": 2,
     "metadata": {},
     "source": [
      "Zip and dictionary construction"
     ]
    },
    {
     "cell_type": "markdown",
     "metadata": {},
     "source": [
      "\n",
      "You can use \"zip\" to zip two iterables together.\n",
      "An iterable of pairs can be used to construct a dictionary\n",
      "\n",
      "\n"
     ]
    },
    {
     "cell_type": "code",
     "collapsed": false,
     "input": [
      "negatives = zip(range(10), [-1.0*x for x in range(10)])\n",
      "print negatives\n",
      "\n",
      "neg_dict=dict(negatives)\n",
      "print neg_dict[5]\n"
     ],
     "language": "python",
     "metadata": {},
     "outputs": [],
     "prompt_number": ""
    },
    {
     "cell_type": "markdown",
     "metadata": {},
     "source": [
      "\n",
      "\n",
      "\n",
      "\n",
      "\n"
     ]
    },
    {
     "cell_type": "heading",
     "level": 1,
     "metadata": {},
     "source": [
      "Functions "
     ]
    },
    {
     "cell_type": "markdown",
     "metadata": {},
     "source": []
    },
    {
     "cell_type": "heading",
     "level": 2,
     "metadata": {},
     "source": [
      "Definition"
     ]
    },
    {
     "cell_type": "markdown",
     "metadata": {},
     "source": [
      "\n",
      "We use `def` to define a function, and `return` to pass back a value:\n",
      "\n",
      "\n"
     ]
    },
    {
     "cell_type": "code",
     "collapsed": false,
     "input": [
      "def double(x):\n",
      "  return x*2\n",
      "\n",
      "print double(5), double([5]), double('five')\n"
     ],
     "language": "python",
     "metadata": {},
     "outputs": [],
     "prompt_number": ""
    },
    {
     "cell_type": "markdown",
     "metadata": {},
     "source": [
      "\n",
      "\n"
     ]
    },
    {
     "cell_type": "heading",
     "level": 2,
     "metadata": {},
     "source": [
      "Side effects"
     ]
    },
    {
     "cell_type": "markdown",
     "metadata": {},
     "source": [
      "\n",
      "Functions can do things to change their **mutable** arguments,\n",
      "so `return` is optional.\n",
      "\n",
      "\n"
     ]
    },
    {
     "cell_type": "code",
     "collapsed": false,
     "input": [
      "def double_inplace(vec):\n",
      "    vec[:]=[element*2 for element in vec]\n",
      "\n",
      "z=range(4)\n",
      "double_inplace(z)\n",
      "print z\n"
     ],
     "language": "python",
     "metadata": {},
     "outputs": [],
     "prompt_number": ""
    },
    {
     "cell_type": "markdown",
     "metadata": {},
     "source": [
      "\n",
      "\n"
     ]
    },
    {
     "cell_type": "heading",
     "level": 2,
     "metadata": {},
     "source": [
      "Early Return"
     ]
    },
    {
     "cell_type": "markdown",
     "metadata": {},
     "source": [
      "\n",
      "Return without arguments can be used to exit early from a function\n",
      "\n",
      "\n"
     ]
    },
    {
     "cell_type": "code",
     "collapsed": false,
     "input": [
      "def extend(to,vec,pad):\n",
      "    if len(vec)>=to:\n",
      "        return\n",
      "    else:\n",
      "        vec[:]=vec+[pad]*(to-len(vec))\n",
      "\n",
      "x=range(3)\n",
      "extend(6,x,'a')\n",
      "print x\n"
     ],
     "language": "python",
     "metadata": {},
     "outputs": [],
     "prompt_number": ""
    },
    {
     "cell_type": "markdown",
     "metadata": {},
     "source": [
      "\n",
      "\n"
     ]
    },
    {
     "cell_type": "heading",
     "level": 2,
     "metadata": {},
     "source": [
      "Unpacking arguments"
     ]
    },
    {
     "cell_type": "markdown",
     "metadata": {},
     "source": [
      "\n",
      "If a vector is supplied to a function with a '*', its elements\n",
      "are used to fill each of a function's arguments. \n",
      "\n",
      "\n"
     ]
    },
    {
     "cell_type": "code",
     "collapsed": false,
     "input": [
      "def arrow(before, after):\n",
      "    return str(before)+\" -> \"+str(after)\n",
      "\n",
      "x=[1,-1]\n",
      "print arrow(*x)\n"
     ],
     "language": "python",
     "metadata": {},
     "outputs": [],
     "prompt_number": ""
    },
    {
     "cell_type": "markdown",
     "metadata": {},
     "source": [
      "\n",
      "\n",
      "\n",
      "This can be quite powerful:\n",
      "\n",
      "\n"
     ]
    },
    {
     "cell_type": "code",
     "collapsed": false,
     "input": [
      "charges={\"neutron\": 0, \"proton\": 1, \"electron\": -1}\n",
      "for particle in charges.items():\n",
      "    print arrow(*particle)\n"
     ],
     "language": "python",
     "metadata": {},
     "outputs": [],
     "prompt_number": ""
    },
    {
     "cell_type": "markdown",
     "metadata": {},
     "source": [
      "\n",
      "\n"
     ]
    },
    {
     "cell_type": "heading",
     "level": 2,
     "metadata": {},
     "source": [
      "Sequence Arguments"
     ]
    },
    {
     "cell_type": "markdown",
     "metadata": {},
     "source": [
      "\n",
      "Similiarly, if a `*` is used in the definition of a function, multiple\n",
      "arguments are absorbed into a tuple:\n",
      "\n",
      "\n"
     ]
    },
    {
     "cell_type": "code",
     "collapsed": false,
     "input": [
      "def doubler(*sequence):\n",
      "    return [x*2 for x in sequence]\n",
      "\n",
      "print doubler(1,2,3)\n"
     ],
     "language": "python",
     "metadata": {},
     "outputs": [],
     "prompt_number": ""
    },
    {
     "cell_type": "markdown",
     "metadata": {},
     "source": [
      "\n",
      "\n"
     ]
    },
    {
     "cell_type": "heading",
     "level": 2,
     "metadata": {},
     "source": [
      "Keyword Arguments"
     ]
    },
    {
     "cell_type": "markdown",
     "metadata": {},
     "source": [
      "\n",
      "If two asterisks are used, named arguments are supplied as a dictionary:\n",
      "\n",
      "\n"
     ]
    },
    {
     "cell_type": "code",
     "collapsed": false,
     "input": [
      "def arrowify(**args):\n",
      "    for key, value in args.items():\n",
      "        print key+\"->\"+value\n",
      "\n",
      "arrowify(neutron=\"n\",proton=\"p\",electron=\"e\")\n"
     ],
     "language": "python",
     "metadata": {},
     "outputs": [],
     "prompt_number": ""
    },
    {
     "cell_type": "markdown",
     "metadata": {},
     "source": [
      "\n",
      "\n"
     ]
    },
    {
     "cell_type": "heading",
     "level": 1,
     "metadata": {},
     "source": [
      "Modules"
     ]
    },
    {
     "cell_type": "markdown",
     "metadata": {},
     "source": []
    },
    {
     "cell_type": "heading",
     "level": 2,
     "metadata": {},
     "source": [
      "File Modules"
     ]
    },
    {
     "cell_type": "markdown",
     "metadata": {},
     "source": [
      "Each python file defines a module, which can be imported from with import:\n",
      "\n",
      "\n"
     ]
    },
    {
     "cell_type": "code",
     "collapsed": false,
     "input": [
      "%%writefile pretty.py\n",
      "\n",
      "\n",
      "arrow = \"->\"\n",
      "\n",
      "def arrowify(**args):\n",
      "    for key, value in args.items():\n",
      "        print str(key)+arrow+str(value)\n"
     ],
     "language": "python",
     "metadata": {},
     "outputs": [],
     "prompt_number": ""
    },
    {
     "cell_type": "markdown",
     "metadata": {},
     "source": [
      "\n",
      "\n",
      "\n",
      "Another file:\n",
      "\n",
      "\n"
     ]
    },
    {
     "cell_type": "code",
     "collapsed": false,
     "input": [
      "import pretty\n",
      "\n",
      "pretty.arrowify(james=\"RITS\", matt=\"CMIC\")\n"
     ],
     "language": "python",
     "metadata": {},
     "outputs": [],
     "prompt_number": ""
    },
    {
     "cell_type": "markdown",
     "metadata": {},
     "source": [
      "\n",
      "\n"
     ]
    },
    {
     "cell_type": "heading",
     "level": 2,
     "metadata": {},
     "source": [
      "Module Variables"
     ]
    },
    {
     "cell_type": "markdown",
     "metadata": {},
     "source": [
      "\n",
      "Modules can contain variables as well as functions, and these can be changed.\n",
      "\n",
      "\n"
     ]
    },
    {
     "cell_type": "code",
     "collapsed": false,
     "input": [
      "pretty.arrow=\"=>\"\n",
      "pretty.arrowify(beauty=True, cause=\"consequence\")\n"
     ],
     "language": "python",
     "metadata": {},
     "outputs": [],
     "prompt_number": ""
    },
    {
     "cell_type": "markdown",
     "metadata": {},
     "source": [
      "\n",
      "\n"
     ]
    },
    {
     "cell_type": "heading",
     "level": 2,
     "metadata": {},
     "source": [
      "Importing from modules"
     ]
    },
    {
     "cell_type": "markdown",
     "metadata": {},
     "source": [
      "\n",
      "Things can be imported from modules to become part of the current module\n",
      "\n",
      "\n"
     ]
    },
    {
     "cell_type": "code",
     "collapsed": false,
     "input": [
      "import math\n",
      "math.sin(math.pi)\n",
      "\n",
      "from math import sin\n",
      "sin(math.pi)\n",
      "\n",
      "from math import *\n",
      "sin(pi)\n"
     ],
     "language": "python",
     "metadata": {},
     "outputs": [],
     "prompt_number": ""
    },
    {
     "cell_type": "markdown",
     "metadata": {},
     "source": [
      "\n",
      "\n"
     ]
    },
    {
     "cell_type": "heading",
     "level": 2,
     "metadata": {},
     "source": [
      "\u00a0Import and rename"
     ]
    },
    {
     "cell_type": "markdown",
     "metadata": {},
     "source": [
      "\n",
      "You can rename things as you import them to avoid clashes or for convenience\n",
      "\n",
      "\n"
     ]
    },
    {
     "cell_type": "code",
     "collapsed": false,
     "input": [
      "import math as m\n",
      "m.cos(0)\n",
      "\n",
      "mypi=3\n",
      "from math import pi as realpi\n",
      "sin(mypi)\n",
      "sin(realpi)\n"
     ],
     "language": "python",
     "metadata": {},
     "outputs": [],
     "prompt_number": ""
    },
    {
     "cell_type": "markdown",
     "metadata": {},
     "source": [
      "\n",
      "\n"
     ]
    },
    {
     "cell_type": "heading",
     "level": 2,
     "metadata": {},
     "source": [
      "Folders as modules"
     ]
    },
    {
     "cell_type": "markdown",
     "metadata": {},
     "source": [
      "\n",
      "If you make a folder with a special file called __init__.py in, the *folder* becomes\n",
      "a module, and can contain other modules. It is referred to as a package:\n"
     ]
    },
    {
     "cell_type": "raw",
     "metadata": {},
     "source": [
      "module1\n",
      "|-- __init__.py\n",
      "|-- module2.py\n",
      "`-- module3\n",
      "    `-- __init__.py"
     ]
    },
    {
     "cell_type": "markdown",
     "metadata": {},
     "source": [
      "\n",
      "\n"
     ]
    },
    {
     "cell_type": "code",
     "collapsed": false,
     "input": [
      "%%writefile module1/__init__.py\n",
      "hello = \"Hello James.\"\n"
     ],
     "language": "python",
     "metadata": {},
     "outputs": [],
     "prompt_number": ""
    },
    {
     "cell_type": "markdown",
     "metadata": {},
     "source": [
      "\n",
      "\n",
      "\n",
      "\n"
     ]
    },
    {
     "cell_type": "code",
     "collapsed": false,
     "input": [
      "%%writefile module1/module2.py\n",
      "hello = \"Greetings, Dr Hetherington\"\n"
     ],
     "language": "python",
     "metadata": {},
     "outputs": [],
     "prompt_number": ""
    },
    {
     "cell_type": "markdown",
     "metadata": {},
     "source": [
      "\n",
      "\n",
      "\n",
      "\n"
     ]
    },
    {
     "cell_type": "code",
     "collapsed": false,
     "input": [
      "import module1\n",
      "print module1.hello\n",
      "\n",
      "import module1.module2\n",
      "print module1.module2.hello\n"
     ],
     "language": "python",
     "metadata": {},
     "outputs": [],
     "prompt_number": ""
    },
    {
     "cell_type": "markdown",
     "metadata": {},
     "source": [
      "\n",
      "\n"
     ]
    },
    {
     "cell_type": "heading",
     "level": 2,
     "metadata": {},
     "source": [
      "Relative Import"
     ]
    },
    {
     "cell_type": "markdown",
     "metadata": {},
     "source": [
      "\n",
      "Inside packages, you can use `..` to refer to the parent module\n",
      "\n",
      "\n"
     ]
    },
    {
     "cell_type": "code",
     "collapsed": false,
     "input": [
      "%%writefile module1/module3/__init__.py\n",
      "from .. import hello as formal\n",
      "hello = formal.replace(\"Hello\",\"Hi\")\n"
     ],
     "language": "python",
     "metadata": {},
     "outputs": [],
     "prompt_number": ""
    },
    {
     "cell_type": "markdown",
     "metadata": {},
     "source": [
      "\n",
      "\n",
      "\n",
      "\n"
     ]
    },
    {
     "cell_type": "code",
     "collapsed": false,
     "input": [
      "import module1.module3\n",
      "module1.module3.hello\n"
     ],
     "language": "python",
     "metadata": {},
     "outputs": [],
     "prompt_number": ""
    },
    {
     "cell_type": "markdown",
     "metadata": {},
     "source": [
      "\n",
      "\n",
      "\n"
     ]
    },
    {
     "cell_type": "heading",
     "level": 1,
     "metadata": {},
     "source": [
      "Week 1 Exercise"
     ]
    },
    {
     "cell_type": "markdown",
     "metadata": {},
     "source": []
    },
    {
     "cell_type": "heading",
     "level": 2,
     "metadata": {},
     "source": [
      "\u00a0Exercises"
     ]
    },
    {
     "cell_type": "markdown",
     "metadata": {},
     "source": [
      "\n",
      "* Each week during the course, there will be an assessed homework exercise.\n",
      "* This will be a pass/fail exercise, submitted through Git, which we will learn about next week.\n",
      "\n",
      "This first week, the exercise will not be assessed, since we're still getting the tools up and running.\n"
     ]
    },
    {
     "cell_type": "heading",
     "level": 2,
     "metadata": {},
     "source": [
      "Installation of Python and IPython Notebook"
     ]
    },
    {
     "cell_type": "markdown",
     "metadata": {},
     "source": [
      "\n",
      "Instead, please concentrate on making sure you've completed the installation instructions, and can run a \n",
      "python file on your computer through the command line, and load an IPython notebook.\n"
     ]
    },
    {
     "cell_type": "heading",
     "level": 2,
     "metadata": {},
     "source": [
      "\u00a0Installation of git"
     ]
    },
    {
     "cell_type": "markdown",
     "metadata": {},
     "source": [
      "\n",
      "Please make sure you can run git at the command line ready for next session:\n"
     ]
    },
    {
     "cell_type": "raw",
     "metadata": {},
     "source": [
      "git --version\n",
      "mkdir git_test\n",
      "cd git_test\n",
      "git init\n",
      "<edit a file called \"test.txt\">\n",
      "git add .\n",
      "git commit -m \"Example commit\"\n",
      "cd ..\n",
      "rm -rf git_test"
     ]
    },
    {
     "cell_type": "markdown",
     "metadata": {},
     "source": []
    },
    {
     "cell_type": "heading",
     "level": 2,
     "metadata": {},
     "source": [
      "\u00a0Sign up on GitHub"
     ]
    },
    {
     "cell_type": "markdown",
     "metadata": {},
     "source": [
      "\n",
      "Go to [GitHub](http://github.com) and create yourself an account, if you haven't already\n"
     ]
    },
    {
     "cell_type": "heading",
     "level": 2,
     "metadata": {},
     "source": [
      "Look at some IPython Notebooks"
     ]
    },
    {
     "cell_type": "markdown",
     "metadata": {},
     "source": [
      "\n",
      "Download yourself some IPython notebooks from [NBViewer](http://nbviewer.ipython.org)\n",
      "Load them up, and have a play."
     ]
    }
   ]
  }
 ]
}